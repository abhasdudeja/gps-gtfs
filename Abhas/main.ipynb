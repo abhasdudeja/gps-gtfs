{
 "cells": [
  {
   "cell_type": "code",
   "execution_count": 1,
   "metadata": {},
   "outputs": [],
   "source": [
    "# main.py\n",
    "from main import gps_data_utils\n",
    "\n",
    "import pandas as pd\n",
    "from shapely.geometry import Point\n",
    "# import geopandas as gpd\n",
    "import folium\n",
    "from joblib import Parallel, delayed"
   ]
  },
  {
   "cell_type": "markdown",
   "metadata": {},
   "source": [
    "### Set Depot Points, Boundary and Buffer here"
   ]
  },
  {
   "cell_type": "code",
   "execution_count": null,
   "metadata": {},
   "outputs": [],
   "source": [
    "p1 = Point(19.4230387681323, -99.1283375653607)\n",
    "p2 = Point(19.4226931599795, -99.1282858845984)\n",
    "p3 = Point(19.4223342584274, -99.128116747558)\n",
    "p4 = Point(19.4215765747699, -99.1277173962126)\n",
    "p5 = Point(19.4212024412726, -99.1275371303434)\n",
    "p6 = Point(19.4204750900101, -99.1271367956332)\n",
    "p7 = Point(19.4203918053066, -99.1270190501302)\n",
    "p8 = Point(19.4174929683974, -99.1274678598945)\n",
    "p9 = Point(19.4172999746193, -99.1275045888836)\n",
    "p10 = Point(19.4176612061906, -99.1318657926695)\n",
    "p11 = Point(19.4179003490392, -99.1319983339035)\n",
    "p12 = Point(19.4237439344618, -99.1310950549938)\n",
    "p13 = Point(19.4233598470446, -99.1283536711016)\n",
    "\n",
    "points = [p1,p2,p3,p4,p5,p6,p7,p8,p9,p10,p11,p12,p13,p1]\n",
    "depot = gps_data_utils.set_depot_boundary(points,buffer = 0)"
   ]
  },
  {
   "cell_type": "markdown",
   "metadata": {},
   "source": [
    "### Read and Validate GPS Data here"
   ]
  },
  {
   "cell_type": "code",
   "execution_count": null,
   "metadata": {},
   "outputs": [],
   "source": [
    "'''\n",
    "error_factor here is used as 1.5, i.e., \n",
    "    relative_error = abs(velocity_gps-velocity_vehicle) / velocity_vehicle \n",
    "    =>  ( 5 - 1 ) / 1 > 1.5\n",
    "    => Calculated GPS speed is way higher than observed speed of the vehicle, i.e. gps walking\n",
    "    => higher error_factor will allow more GPS walking\n",
    "'''\n",
    "error_factor = 1.25"
   ]
  },
  {
   "cell_type": "code",
   "execution_count": null,
   "metadata": {},
   "outputs": [],
   "source": [
    "cols = ['UnityLicensePlate', 'RowReferenceTime', 'lat', 'lon','Speed','EngineStatus']\n",
    "date_col = ['RowReferenceTime']\n",
    "d_format = 'ISO8601'\n",
    "file = 'D:/Extra-Projects/MGL-India/Moving Dots/trip_data_10Units_1Year_V2.csv'\n",
    "\n",
    "df = gps_data_utils.read_data(file,cols,date_col,d_format)\n",
    "df = gps_data_utils.validate_mandatory_cols(df,'RowReferenceTime','lat','lon','Speed','UnityLicensePlate')\n",
    "df = gps_data_utils.add_date_time_month_df(df)\n",
    "df = df.groupby(by=['vehicleid','date']).apply(gps_data_utils.add_prev_latlong).reset_index(drop=True)\n",
    "df = gps_data_utils.check_veh_within_depot(df,depot)\n",
    "\n",
    "df['dist_prev_point'] = Parallel(n_jobs=-1, prefer=\"threads\")(delayed(gps_data_utils.dist_calc_haversine_km)(row) for _, row in df.iterrows())\n",
    "\n",
    "df['timediff'] = df.groupby(by=['vehicleid','date'])['timestamp'].diff().dt.total_seconds()/3600\n",
    "\n",
    "df['velocity_gps'] = (df['dist_prev_point']/df['timediff']).fillna(0)\n",
    "df['velocity_vehicle'] = (df['speed'] + df['speed'].shift(1)) / 2\n",
    "df['speed_flag'] = df.apply(lambda row: ((row['velocity_vehicle'] != 0) and (abs((row['velocity_gps'] - row['velocity_vehicle']) / row['velocity_vehicle']) < error_factor)), axis=1)"
   ]
  },
  {
   "cell_type": "code",
   "execution_count": null,
   "metadata": {},
   "outputs": [],
   "source": [
    "'''\n",
    "Speed is now filtered to ease the GPS walking.\n",
    "'''\n",
    "df = df.loc[df['speed_flag']]\n",
    "\n",
    "df= df.reset_index(drop=True)"
   ]
  },
  {
   "cell_type": "code",
   "execution_count": null,
   "metadata": {},
   "outputs": [],
   "source": [
    "pd.DataFrame(df).to_csv('DF-speed-flagged.csv',index=False)"
   ]
  },
  {
   "cell_type": "code",
   "execution_count": null,
   "metadata": {},
   "outputs": [],
   "source": [
    "df = pd.read_csv('DF-speed-flagged.csv',parse_dates=['timestamp','time'],date_format='ISO8601')\n",
    "df = df.drop(['Unnamed: 0'],axis=1)"
   ]
  },
  {
   "cell_type": "code",
   "execution_count": null,
   "metadata": {},
   "outputs": [],
   "source": [
    "minlen_df = 10\n",
    "\n",
    "maps = folium.Map()\n",
    "mg = folium.FeatureGroup().add_to(maps)\n",
    "\n",
    "# single_vehicle = None\n",
    "single_vehicle = 'VIG21425'\n",
    "\n",
    "if single_vehicle:\n",
    "    tempdf = df[df['vehicleid'] == single_vehicle]\n",
    "\n",
    "    # Save the interpolated data for each combination of 'vehicleid' and 'date'\n",
    "    for name, group in tempdf.groupby(['vehicleid', 'date']):\n",
    "        vehicleid,date = name\n",
    "        \n",
    "        if len(group) > minlen_df:\n",
    "            group['timestamp'] = pd.to_datetime(group['timestamp'])\n",
    "            group = group.set_index('timestamp')\n",
    "            group = group.resample('1S').bfill().interpolate(method = 'linear')\n",
    "\n",
    "            geometry = [Point(xy) for xy in zip(group['lon'].notna(),group['lat'].notna())]\n",
    "            groupdf = gps_data_utils.df_to_gdf(group)\n",
    "            \n",
    "            \n",
    "            file_name = f'vehicle_{vehicleid}_date_{date}_interpolated_data.csv'\n",
    "            # group.to_csv(file_name, index=False)\n",
    "            folium.PolyLine(list(zip(group['lat'],group['lon'])),color=gps_data_utils.rgb_to_hex(),weight=2).add_to(mg)"
   ]
  },
  {
   "cell_type": "code",
   "execution_count": null,
   "metadata": {},
   "outputs": [],
   "source": [
    "# groupdf = group\n",
    "groupdf = gps_data_utils.df_to_gdf(group,group['lat'],group['lon'])"
   ]
  },
  {
   "cell_type": "code",
   "execution_count": null,
   "metadata": {},
   "outputs": [],
   "source": [
    "maps.fit_bounds(mg.get_bounds())\n",
    "maps"
   ]
  }
 ],
 "metadata": {
  "kernelspec": {
   "display_name": "Python 3",
   "language": "python",
   "name": "python3"
  },
  "language_info": {
   "codemirror_mode": {
    "name": "ipython",
    "version": 3
   },
   "file_extension": ".py",
   "mimetype": "text/x-python",
   "name": "python",
   "nbconvert_exporter": "python",
   "pygments_lexer": "ipython3",
   "version": "3.12.0"
  }
 },
 "nbformat": 4,
 "nbformat_minor": 2
}
