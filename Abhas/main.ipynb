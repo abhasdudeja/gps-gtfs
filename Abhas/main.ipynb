{
 "cells": [
  {
   "cell_type": "code",
   "execution_count": null,
   "metadata": {},
   "outputs": [],
   "source": [
    "# main.py\n",
    "from main import gps_data_utils\n",
    "\n",
    "import pandas as pd\n",
    "from shapely.geometry import Point\n",
    "import geopandas as gpd\n",
    "import folium\n",
    "from joblib import Parallel, delayed\n",
    "\n",
    "import networkx as nx\n",
    "import osmnx as ox\n",
    "from osmnx import distance, utils_graph, settings, graph\n",
    "settings.use_cache = True\n",
    "settings.cache_only_mode = True"
   ]
  },
  {
   "cell_type": "markdown",
   "metadata": {},
   "source": [
    "### Set Depot Points, Boundary and Buffer here"
   ]
  },
  {
   "cell_type": "code",
   "execution_count": null,
   "metadata": {},
   "outputs": [],
   "source": [
    "p1 = Point(-99.12768416729142, 19.421231015290946)\n",
    "p2 = Point(-99.12729008610742, 19.420298241433308)\n",
    "p3 = Point(-99.12747041774, 19.419116629726144)\n",
    "p4 = Point(-99.12969297748691, 19.41926477082061)\n",
    "p5 = Point(-99.12944573801215, 19.42117868427646)\n",
    "\n",
    "points = [p1,p2,p3,p4,p5,p1]\n",
    "depot = gps_data_utils.set_depot_boundary(points,buffer = 0)"
   ]
  },
  {
   "cell_type": "markdown",
   "metadata": {},
   "source": [
    "### Read and Validate GPS Data here"
   ]
  },
  {
   "cell_type": "code",
   "execution_count": null,
   "metadata": {},
   "outputs": [],
   "source": [
    "'''\n",
    "error_factor here is used as 1.5, i.e., \n",
    "    relative_error = abs(velocity_gps-velocity_vehicle) / velocity_vehicle \n",
    "    =>  ( 5 - 1 ) / 1 > 1.5\n",
    "    => Calculated GPS speed is way higher than observed speed of the vehicle, i.e. gps walking\n",
    "    => higher error_factor will allow more GPS walking\n",
    "'''\n",
    "error_factor = 1.25"
   ]
  },
  {
   "cell_type": "code",
   "execution_count": null,
   "metadata": {},
   "outputs": [],
   "source": [
    "cols = ['UnityLicensePlate', 'RowReferenceTime', 'lat', 'lon','Speed','EngineStatus']\n",
    "date_col = ['RowReferenceTime']\n",
    "d_format = 'ISO8601'\n",
    "file = 'D:/Extra-Projects/MGL-India/Moving Dots/trip_data_10Units_1Year_V2.csv'\n",
    "\n",
    "df = gps_data_utils.read_data(file,cols,date_col,d_format)\n",
    "df = gps_data_utils.validate_mandatory_cols(df,'RowReferenceTime','lat','lon','Speed','UnityLicensePlate')\n",
    "df = gps_data_utils.add_date_time_month_df(df)\n",
    "df = df.groupby(by=['vehicleid','date']).apply(gps_data_utils.add_prev_latlong).reset_index(drop=True)\n",
    "df = gps_data_utils.check_veh_within_depot(df,depot)\n",
    "\n",
    "df['dist_prev_point'] = Parallel(n_jobs=-1, prefer=\"threads\")(delayed(gps_data_utils.dist_calc_haversine_km)(row) for _, row in df.iterrows())\n",
    "\n",
    "df['timediff'] = df.groupby(by=['vehicleid','date'])['timestamp'].diff().dt.total_seconds()/3600\n",
    "\n",
    "df['velocity_gps'] = (df['dist_prev_point']/df['timediff']).fillna(0)\n",
    "df['velocity_vehicle'] = (df['speed'] + df['speed'].shift(1)) / 2\n",
    "df['speed_flag'] = df.apply(lambda row: ((row['velocity_vehicle'] != 0) and (abs((row['velocity_gps'] - row['velocity_vehicle']) / row['velocity_vehicle']) < error_factor)), axis=1)"
   ]
  },
  {
   "cell_type": "code",
   "execution_count": null,
   "metadata": {},
   "outputs": [],
   "source": [
    "'''\n",
    "Speed is now filtered to ease the GPS walking.\n",
    "'''\n",
    "df = df.loc[df['speed_flag']]\n",
    "\n",
    "df= df.reset_index(drop=True)"
   ]
  },
  {
   "cell_type": "code",
   "execution_count": null,
   "metadata": {},
   "outputs": [],
   "source": [
    "# pd.DataFrame(df).to_csv('DF-speed-flagged.csv',index=False)"
   ]
  },
  {
   "cell_type": "code",
   "execution_count": null,
   "metadata": {},
   "outputs": [],
   "source": [
    "# df = pd.read_csv('DF-speed-flagged.csv',parse_dates=['timestamp','time'],date_format='ISO8601')\n",
    "# df = df.drop(['Unnamed: 0'],axis=1)"
   ]
  },
  {
   "cell_type": "code",
   "execution_count": null,
   "metadata": {},
   "outputs": [],
   "source": [
    "def get_network(df):\n",
    "    min_lat = df['lat'].min()\n",
    "    max_lat = df['lat'].max()\n",
    "    min_lon = df['lon'].min()\n",
    "    max_lon = df['lon'].max()\n",
    "\n",
    "    bounding_box = (min_lat, min_lon, max_lat, max_lon)\n",
    "    # create and returh the graph network\n",
    "    return graph.graph_from_bbox(bounding_box[0], bounding_box[2], bounding_box[1], bounding_box[3], network_type='drive', simplify=True)"
   ]
  },
  {
   "cell_type": "code",
   "execution_count": null,
   "metadata": {},
   "outputs": [],
   "source": [
    "origin = (19.42041667,-99.12819444)  \n",
    "destination = (19.33610408935329, -99.07750246715862)\n",
    "# destination = (19.421231015290946,-99.12768416729142)  \n",
    "G = get_network(df)"
   ]
  },
  {
   "cell_type": "code",
   "execution_count": null,
   "metadata": {},
   "outputs": [],
   "source": [
    "origin_node = distance.nearest_nodes(G, origin[1], origin[0])\n",
    "destination_node = distance.nearest_nodes(G, destination[1], destination[0])\n",
    "# Get route from network\n",
    "route = nx.shortest_path(G, source=origin_node, target=destination_node, weight='length',method='dijkstra')"
   ]
  },
  {
   "cell_type": "code",
   "execution_count": null,
   "metadata": {},
   "outputs": [],
   "source": [
    "flmc_route_length = round(sum(utils_graph.route_to_gdf(G, route, 'length')['length'].values),2)\n",
    "\n",
    "print(\"Optimal distance:\", flmc_route_length, \"meters\")"
   ]
  },
  {
   "cell_type": "code",
   "execution_count": null,
   "metadata": {},
   "outputs": [],
   "source": [
    "fig, ax = ox.plot_graph_route(G,route,route_color='red',route_linewidth=1)\n",
    "ax.set_xlim([bounding_box[1], bounding_box[3]])\n",
    "ax.set_ylim([bounding_box[0], bounding_box[2]])"
   ]
  },
  {
   "cell_type": "code",
   "execution_count": null,
   "metadata": {},
   "outputs": [],
   "source": [
    "minlen_df = 10\n",
    "\n",
    "maps = folium.Map()\n",
    "mg = folium.FeatureGroup().add_to(maps)\n",
    "\n",
    "# single_vehicle = None\n",
    "single_vehicle = 'VIG21425'\n",
    "\n",
    "if single_vehicle:\n",
    "    tempdf = df[df['vehicleid'] == single_vehicle]\n",
    "\n",
    "    # Save the interpolated data for each combination of 'vehicleid' and 'date'\n",
    "    for name, group in tempdf.groupby(['vehicleid', 'date']):\n",
    "        vehicleid,date = name\n",
    "        \n",
    "        if len(group) > minlen_df:\n",
    "            group['timestamp'] = pd.to_datetime(group['timestamp'])\n",
    "            group = group.set_index('timestamp')\n",
    "            group = group.resample('1S').bfill().interpolate(method = 'linear')\n",
    "\n",
    "            geometry = [Point(xy) for xy in zip(group['lon'].notna(),group['lat'].notna())]\n",
    "            groupdf = gps_data_utils.df_to_gdf(group)\n",
    "            \n",
    "            \n",
    "            file_name = f'vehicle_{vehicleid}_date_{date}_interpolated_data.csv'\n",
    "            # group.to_csv(file_name, index=False)\n",
    "            folium.PolyLine(list(zip(group['lat'],group['lon'])),color=gps_data_utils.rgb_to_hex(),weight=2).add_to(mg)"
   ]
  },
  {
   "cell_type": "code",
   "execution_count": null,
   "metadata": {},
   "outputs": [],
   "source": [
    "# groupdf = group\n",
    "groupdf = gps_data_utils.df_to_gdf(group,group['lat'],group['lon'])"
   ]
  },
  {
   "cell_type": "code",
   "execution_count": null,
   "metadata": {},
   "outputs": [],
   "source": [
    "maps.fit_bounds(mg.get_bounds())\n",
    "maps"
   ]
  }
 ],
 "metadata": {
  "kernelspec": {
   "display_name": "Python 3",
   "language": "python",
   "name": "python3"
  },
  "language_info": {
   "codemirror_mode": {
    "name": "ipython",
    "version": 3
   },
   "file_extension": ".py",
   "mimetype": "text/x-python",
   "name": "python",
   "nbconvert_exporter": "python",
   "pygments_lexer": "ipython3",
   "version": "3.12.0"
  }
 },
 "nbformat": 4,
 "nbformat_minor": 2
}
