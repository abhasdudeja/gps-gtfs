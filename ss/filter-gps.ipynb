{
 "cells": [
  {
   "cell_type": "code",
   "execution_count": 4,
   "metadata": {},
   "outputs": [],
   "source": [
    "import geopandas as gpd\n",
    "from shapely.geometry import Point\n",
    "from geopy.distance import geodesic\n",
    "from datetime import datetime, timedelta\n",
    "import pandas as pd"
   ]
  },
  {
   "cell_type": "code",
   "execution_count": 5,
   "metadata": {},
   "outputs": [],
   "source": [
    "# Create a GeoPandas DataFrame with sample GPS data including 'timestamp' and 'geometry' columns\n",
    "data = pd.read_csv('D:/Extra-Projects/MGL-India/Moving Dots/trip_data_10Units_1Year_V2.csv',usecols=['UnityLicensePlate', 'RowReferenceTime', 'lat', 'lon','Speed','EngineStatus'],parse_dates=['RowReferenceTime'])\n",
    "gdf = gpd.GeoDataFrame(data,geometry= gpd.points_from_xy(data['lat'],data['lon']), crs='EPSG:4326')"
   ]
  },
  {
   "cell_type": "code",
   "execution_count": 12,
   "metadata": {},
   "outputs": [],
   "source": [
    "# Convert 'timestamp' column to datetime format\n",
    "gdf['timestamp'] = pd.to_datetime(gdf['RowReferenceTime'],format='ISO8601')\n",
    "\n",
    "# Function to calculate distance between two points using geopy\n",
    "def calculate_distance(row,prev_row):\n",
    "    point_a = (row['geometry'].x, row['geometry'].y)\n",
    "    point_b = (prev_row['geometry'].x, prev_row['geometry'].y)  # Example using the first point as reference\n",
    "    return geodesic(point_a, point_b).kilometers\n",
    "\n",
    "# Function to filter rows based on time and distance criteria\n",
    "def filter_rows(row):\n",
    "    time_threshold = timedelta(minutes=5)\n",
    "\n",
    "    if row.name > 0:\n",
    "        time_difference = row['timestamp'] - gdf.loc[row.name - 1, 'timestamp']\n",
    "        if time_difference < time_threshold:\n",
    "            return False\n",
    "\n",
    "        distance = calculate_distance(row, gdf.loc[row.name - 1])\n",
    "        return distance <= 2.0\n",
    "\n",
    "    # For the first row, always include it in the result\n",
    "    return True\n",
    "\n",
    "# Apply the filtering function to each row in the GeoDataFrame\n",
    "filtered_gdf = gdf[gdf.apply(filter_rows, axis=1)]"
   ]
  },
  {
   "cell_type": "code",
   "execution_count": 11,
   "metadata": {},
   "outputs": [
    {
     "name": "stdout",
     "output_type": "stream",
     "text": [
      "       UnityLicensePlate               RowReferenceTime       lat       lon  \\\n",
      "0               VIG26878  2023-11-01 07:27:33.697000000  19.36178 -98.95371   \n",
      "1               VIG26878  2023-11-01 01:48:52.690000000  19.36144 -98.95451   \n",
      "2               VIG26878  2023-11-01 07:27:16.697000000  19.36146 -98.95401   \n",
      "3               VIG26878  2023-11-01 07:25:14.843000000  19.36136 -98.95452   \n",
      "4               VIG26878  2023-11-01 07:29:30.717000000  19.36096 -98.95286   \n",
      "...                  ...                            ...       ...       ...   \n",
      "141315          CEV30321  2023-01-26 12:15:29.087000000  19.44023 -99.20637   \n",
      "141316          CEV30321            2023-01-23 07:52:42  19.43237 -99.17939   \n",
      "141317          VIG26878  2023-01-31 17:29:24.247000000  19.33344 -98.95144   \n",
      "141318          VIG26878  2023-01-31 18:44:39.850000000  19.36135 -98.95444   \n",
      "141319          VIG23896  2023-01-27 10:51:55.307000000  19.46822 -99.12085   \n",
      "\n",
      "        Speed  EngineStatus                    geometry  \\\n",
      "0           6             1  POINT (19.36178 -98.95371)   \n",
      "1           0             0  POINT (19.36144 -98.95451)   \n",
      "2          10             1  POINT (19.36146 -98.95401)   \n",
      "3           0             1  POINT (19.36136 -98.95452)   \n",
      "4           6             1  POINT (19.36096 -98.95286)   \n",
      "...       ...           ...                         ...   \n",
      "141315      1             1  POINT (19.44023 -99.20637)   \n",
      "141316     33             1  POINT (19.43237 -99.17939)   \n",
      "141317     16             1  POINT (19.33344 -98.95144)   \n",
      "141318      0             0  POINT (19.36135 -98.95444)   \n",
      "141319      1             1  POINT (19.46822 -99.12085)   \n",
      "\n",
      "                     timestamp  \n",
      "0      2023-11-01 07:27:33.697  \n",
      "1      2023-11-01 01:48:52.690  \n",
      "2      2023-11-01 07:27:16.697  \n",
      "3      2023-11-01 07:25:14.843  \n",
      "4      2023-11-01 07:29:30.717  \n",
      "...                        ...  \n",
      "141315 2023-01-26 12:15:29.087  \n",
      "141316 2023-01-23 07:52:42.000  \n",
      "141317 2023-01-31 17:29:24.247  \n",
      "141318 2023-01-31 18:44:39.850  \n",
      "141319 2023-01-27 10:51:55.307  \n",
      "\n",
      "[141320 rows x 8 columns]\n"
     ]
    }
   ],
   "source": [
    "# Print the resulting GeoDataFrame\n",
    "print(filtered_gdf.reset_index(drop=True))"
   ]
  }
 ],
 "metadata": {
  "kernelspec": {
   "display_name": "Python 3",
   "language": "python",
   "name": "python3"
  },
  "language_info": {
   "codemirror_mode": {
    "name": "ipython",
    "version": 3
   },
   "file_extension": ".py",
   "mimetype": "text/x-python",
   "name": "python",
   "nbconvert_exporter": "python",
   "pygments_lexer": "ipython3",
   "version": "3.12.0"
  }
 },
 "nbformat": 4,
 "nbformat_minor": 2
}
