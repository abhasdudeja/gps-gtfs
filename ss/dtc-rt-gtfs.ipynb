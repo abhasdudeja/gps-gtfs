{
 "cells": [
  {
   "cell_type": "markdown",
   "metadata": {},
   "source": [
    "#### Do not run this cell unless you want to download the RT-GTFS from DTC website"
   ]
  },
  {
   "cell_type": "code",
   "execution_count": 2,
   "metadata": {},
   "outputs": [],
   "source": [
    "# import requests\n",
    "# import csv\n",
    "# import gtfs_realtime_pb2\n",
    "# import time\n",
    "\n",
    "# PB_URL = \"https://otd.delhi.gov.in/api/realtime/VehiclePositions.pb?key=qQdrLdHL9z5X2IEPMv1JNx524TutmrQV\"\n",
    "\n",
    "# positions = str\n",
    "\n",
    "# cols = [\"entity_id\",\"trip\",\"route\",\"start_time\",\"start_date\",\"vehicle_id\",\"lat\",\"lon\",\"veh_speed\",\"veh_timestamp\"]\n",
    "# iteration = 1\n",
    "# while True: # Code will run forever without this while statement\n",
    "#     response = requests.get(PB_URL)\n",
    "#     response.raise_for_status()\n",
    "\n",
    "#     feed_message = gtfs_realtime_pb2.FeedMessage()\n",
    "\n",
    "#     feed_message.ParseFromString(response.content)\n",
    "\n",
    "#     with open('output/dtc-rt/dtc-rt-gtfs-output.csv','a',newline='') as csv_file:\n",
    "#         data = []\n",
    "#         writer = csv.writer(csv_file)\n",
    "\n",
    "#         trips,vehicle,position,timestamp = None,None,None,None\n",
    "\n",
    "#         for entity in feed_message.entity:\n",
    "#             entity_id = entity.id\n",
    "#             trip = entity.vehicle.trip.trip_id\n",
    "#             route = entity.vehicle.trip.route_id\n",
    "#             start_time = entity.vehicle.trip.start_time\n",
    "#             start_date = entity.vehicle.trip.start_date\n",
    "\n",
    "#             vehicle_id = entity.vehicle.vehicle.id\n",
    "\n",
    "#             lat = entity.vehicle.position.latitude\n",
    "#             lon = entity.vehicle.position.longitude\n",
    "#             veh_speed = entity.vehicle.position.speed\n",
    "\n",
    "#             veh_timestamp = entity.vehicle.timestamp\n",
    "#             # print(entity)\n",
    "#             data.append([entity_id,trip,route,start_time,start_date,vehicle_id,lat,lon,veh_speed,veh_timestamp])\n",
    "#         print(f\"Iteration No: {iteration}\")\n",
    "#         iteration += 1\n",
    "#         print(len(data))\n",
    "#         writer.writerows(data)\n",
    "#     time.sleep(3)"
   ]
  },
  {
   "cell_type": "code",
   "execution_count": 3,
   "metadata": {},
   "outputs": [],
   "source": [
    "# my_map = folium.Map(None)\n",
    "# coords = []\n",
    "# route = None\n",
    "# end_time,start_time,veh_id = None,None, None\n",
    "\n",
    "\n",
    "# grp_fg = folium.FeatureGroup().add_to(my_map)\n",
    "# # print(len(grouped_df))\n",
    "# for key,my_df in grouped_df:\n",
    "#     route = key[0]\n",
    "#     vehicle = key[1]\n",
    "#     if route >= 5000:\n",
    "#         start_time = my_df.iloc[0]['start_datetime']\n",
    "#         end_time = my_df.iloc[len(my_df)-1]['start_datetime']\n",
    "        \n",
    "#         c = [[item['lat'],item['lon']] for _, item in my_df.iterrows()]\n",
    "        \n",
    "#         coords.append(c)\n",
    "        \n",
    "#         folium.PolyLine(c,tooltip = f\"Vehicle ID: {veh_id}<br>Route: {route}\",color=rgb_to_hex()).add_to(grp_fg)"
   ]
  },
  {
   "cell_type": "code",
   "execution_count": 4,
   "metadata": {},
   "outputs": [],
   "source": [
    "import pandas as pd\n",
    "import folium\n",
    "import random\n",
    "from shapely.geometry import Point\n",
    "import math\n",
    "import pyproj"
   ]
  },
  {
   "cell_type": "code",
   "execution_count": 5,
   "metadata": {},
   "outputs": [],
   "source": [
    "df = pd.read_csv('output/dtc-rt/dtc-rt-gtfs-output.csv',parse_dates=['start_time','start_date'])\n",
    "\n",
    "cols = [\"entity_id\",\"trip\",\"route\",\"start_time\",\"start_date\",\"vehicle_id\",\"lat\",\"lon\",\"veh_speed\",\"veh_timestamp\"]"
   ]
  },
  {
   "cell_type": "code",
   "execution_count": 6,
   "metadata": {},
   "outputs": [],
   "source": [
    "# Filter only DTC Routes\n",
    "df = df.loc[df['route']>=5000].reset_index()\n",
    "df['start_datetime'] = pd.to_datetime(pd.to_datetime(df['start_date']).dt.strftime('%Y-%m-%d') + ' ' + pd.to_datetime(df['start_time']).dt.strftime('%H:%M:%S'))\n",
    "df['veh_timestamp'] = pd.to_datetime(df['veh_timestamp'])\n",
    "\n",
    "# Group by vehicle_id and sort by start_time\n",
    "df = df.sort_values(by=['route','vehicle_id','start_datetime'],ascending=True)"
   ]
  },
  {
   "cell_type": "code",
   "execution_count": 7,
   "metadata": {},
   "outputs": [],
   "source": [
    "def rgb_to_hex():\n",
    "    color = random.choices(range(150),k=3)\n",
    "\n",
    "    r = color[0]\n",
    "    g = color[1]\n",
    "    b = color[2]\n",
    "    return '#{:02x}{:02x}{:02x}'.format(r, g, b)"
   ]
  },
  {
   "cell_type": "code",
   "execution_count": 8,
   "metadata": {},
   "outputs": [],
   "source": [
    "df['lat'] = df['lat'].round(4)\n",
    "df['lon'] = df['lon'].round(4)"
   ]
  },
  {
   "cell_type": "code",
   "execution_count": 9,
   "metadata": {},
   "outputs": [],
   "source": [
    "marker_collection = df.groupby(['lat','lon']).size().reset_index()"
   ]
  },
  {
   "cell_type": "code",
   "execution_count": null,
   "metadata": {},
   "outputs": [],
   "source": [
    "my_map = folium.Map(None)\n",
    "grp_fg = folium.FeatureGroup().add_to(my_map)\n",
    "\n",
    "collection = marker_collection.groupby(by=0)\n",
    "\n",
    "for key,mk in collection:\n",
    "    mk.reset_index()\n",
    "    r = int(1.5)\n",
    "    # print(mk['lat'])\n",
    "    colors = rgb_to_hex()\n",
    "    for _,item in mk.iterrows():\n",
    "        # print(item['lat'])\n",
    "        folium.CircleMarker([float(item['lat']),item['lon']],radius = r,color = colors,tooltip = f\"{key}\").add_to(grp_fg)\n",
    "    "
   ]
  },
  {
   "cell_type": "code",
   "execution_count": null,
   "metadata": {},
   "outputs": [],
   "source": [
    "my_map.fit_bounds(grp_fg.get_bounds())\n",
    "my_map #.save('routes.html')"
   ]
  }
 ],
 "metadata": {
  "kernelspec": {
   "display_name": "Python 3",
   "language": "python",
   "name": "python3"
  },
  "language_info": {
   "codemirror_mode": {
    "name": "ipython",
    "version": 3
   },
   "file_extension": ".py",
   "mimetype": "text/x-python",
   "name": "python",
   "nbconvert_exporter": "python",
   "pygments_lexer": "ipython3",
   "version": "3.11.3"
  }
 },
 "nbformat": 4,
 "nbformat_minor": 2
}
