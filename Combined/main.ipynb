{
 "cells": [
  {
   "cell_type": "code",
   "execution_count": null,
   "metadata": {},
   "outputs": [],
   "source": [
    "from gpsprocessor import gps_data_utils\n",
    "from shapely.geometry import Point, LineString\n",
    "import geopandas as gpd\n",
    "import folium\n",
    "from folium.plugins import MarkerCluster"
   ]
  },
  {
   "cell_type": "markdown",
   "metadata": {},
   "source": [
    "### Set Depot Points, Boundary and Buffer here"
   ]
  },
  {
   "cell_type": "code",
   "execution_count": null,
   "metadata": {},
   "outputs": [],
   "source": [
    "p1 = Point(19.421231015290946, -99.12768416729142)\n",
    "p2 = Point(19.420298241433308, -99.12729008610742)\n",
    "p3 = Point(19.419116629726144, -99.12747041774)\n",
    "p4 = Point(19.41926477082061, -99.12969297748691)\n",
    "p5 = Point(19.42117868427646, -99.12944573801215)\n",
    "\n",
    "points = [p1,p2,p3,p4,p5,p1]\n",
    "depot = gps_data_utils.set_depot_boundary(points,buffer = 0)"
   ]
  },
  {
   "cell_type": "markdown",
   "metadata": {},
   "source": [
    "### Read and Validate GPS Data here"
   ]
  },
  {
   "cell_type": "code",
   "execution_count": null,
   "metadata": {},
   "outputs": [],
   "source": [
    "'''\n",
    "error_factor here is used as 1.5, i.e., \n",
    "    relative_error = abs(velocity_gps-velocity_vehicle) / velocity_vehicle \n",
    "    =>  ( 5 - 1 ) / 1 > 1.5\n",
    "    => Calculated GPS speed is way higher than observed speed of the vehicle, i.e. gps walking\n",
    "    => higher error_factor will allow more GPS walking\n",
    "'''\n",
    "error_factor = 1.25"
   ]
  },
  {
   "cell_type": "code",
   "execution_count": null,
   "metadata": {},
   "outputs": [],
   "source": [
    "cols = ['UnityLicensePlate', 'RowReferenceTime', 'lat', 'lon','Speed','EngineStatus']\n",
    "date_col = ['RowReferenceTime']\n",
    "d_format = 'ISO8601'\n",
    "\n",
    "file = 'D:/Extra-Projects/MGL-India/Moving Dots/trip_data_10Units_1Year_V2.csv'\n",
    "df = gps_data_utils.read_data(file,cols,date_col,d_format)"
   ]
  },
  {
   "cell_type": "code",
   "execution_count": null,
   "metadata": {},
   "outputs": [],
   "source": [
    "df = gps_data_utils.validate_mandatory_cols(df,'RowReferenceTime','lat','lon','Speed','UnityLicensePlate')"
   ]
  },
  {
   "cell_type": "code",
   "execution_count": null,
   "metadata": {},
   "outputs": [],
   "source": [
    "df = gps_data_utils.add_date_time_month_df(df)"
   ]
  },
  {
   "cell_type": "code",
   "execution_count": null,
   "metadata": {},
   "outputs": [],
   "source": [
    "df = df.groupby(by=['vehicleid','date']).apply(gps_data_utils.add_prev_latlong).reset_index(drop=True)"
   ]
  },
  {
   "cell_type": "code",
   "execution_count": null,
   "metadata": {},
   "outputs": [],
   "source": [
    "df = gps_data_utils.check_veh_within_depot(df,depot)"
   ]
  },
  {
   "cell_type": "code",
   "execution_count": null,
   "metadata": {},
   "outputs": [],
   "source": [
    "df = gps_data_utils.calculate_speed_flag(df, error_factor)"
   ]
  },
  {
   "cell_type": "code",
   "execution_count": null,
   "metadata": {},
   "outputs": [],
   "source": [
    "df = gps_data_utils.blank_filter(df)"
   ]
  },
  {
   "cell_type": "code",
   "execution_count": null,
   "metadata": {},
   "outputs": [],
   "source": [
    "gdf = gps_data_utils.df_to_gdf(df)\n",
    "tolerance = 0.05\n",
    "\n",
    "gdf_grouped = gdf.groupby(by=['vehicleid'])\n",
    "\n",
    "line_gdf = []\n",
    "\n",
    "for vehicleid, group in gdf_grouped:\n",
    "\n",
    "    line = LineString(zip(group['lon'], group['lat']))\n",
    "    \n",
    "    line_gdf.append(gpd.GeoDataFrame(geometry=line,crs='EPSG:4326'))\n",
    "\n",
    "# Optionally, you can set the coordinate reference system (CRS) for the GeoDataFrame\n",
    "\n",
    "\n",
    "# simplified_lines = gdf['geometry'].simplify(tolerance)\n",
    "# simplified_gdf = gpd.GeoDataFrame(geometry=simplified_lines)"
   ]
  },
  {
   "cell_type": "code",
   "execution_count": null,
   "metadata": {},
   "outputs": [],
   "source": [
    "maps = folium.Map(max_zoom=24)\n",
    "fg = MarkerCluster().add_to(maps)\n",
    "for _, row in simplified_gdf.iterrows():\n",
    "    lon, lat = row['geometry'].x, row['geometry'].y\n",
    "    folium.Marker(location=[lat, lon],popup=f\"Index:{row.name}\").add_to(fg)"
   ]
  },
  {
   "cell_type": "code",
   "execution_count": null,
   "metadata": {},
   "outputs": [],
   "source": [
    "maps.fit_bounds(fg.get_bounds())\n",
    "maps"
   ]
  }
 ],
 "metadata": {
  "kernelspec": {
   "display_name": "Python 3",
   "language": "python",
   "name": "python3"
  },
  "language_info": {
   "codemirror_mode": {
    "name": "ipython",
    "version": 3
   },
   "file_extension": ".py",
   "mimetype": "text/x-python",
   "name": "python",
   "nbconvert_exporter": "python",
   "pygments_lexer": "ipython3",
   "version": "3.12.0"
  }
 },
 "nbformat": 4,
 "nbformat_minor": 2
}
