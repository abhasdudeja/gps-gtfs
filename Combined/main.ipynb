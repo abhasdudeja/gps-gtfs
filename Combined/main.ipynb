{
 "cells": [
  {
   "cell_type": "code",
   "execution_count": null,
   "metadata": {},
   "outputs": [],
   "source": [
    "from gpsprocessor import gps_data_utils\n",
    "from shapely.geometry import Point\n",
    "import geopandas as gpd\n",
    "import folium\n",
    "from folium.plugins import MarkerCluster"
   ]
  },
  {
   "cell_type": "markdown",
   "metadata": {},
   "source": [
    "### Set Depot Points, Boundary and Buffer here"
   ]
  },
  {
   "cell_type": "code",
   "execution_count": null,
   "metadata": {},
   "outputs": [],
   "source": [
    "p1 = Point(19.4230387681323, -99.1283375653607)\n",
    "p2 = Point(19.4226931599795, -99.1282858845984)\n",
    "p3 = Point(19.4223342584274, -99.128116747558)\n",
    "p4 = Point(19.4215765747699, -99.1277173962126)\n",
    "p5 = Point(19.4212024412726, -99.1275371303434)\n",
    "p6 = Point(19.4204750900101, -99.1271367956332)\n",
    "p7 = Point(19.4203918053066, -99.1270190501302)\n",
    "p8 = Point(19.4174929683974, -99.1274678598945)\n",
    "p9 = Point(19.4172999746193, -99.1275045888836)\n",
    "p10 = Point(19.4176612061906, -99.1318657926695)\n",
    "p11 = Point(19.4179003490392, -99.1319983339035)\n",
    "p12 = Point(19.4237439344618, -99.1310950549938)\n",
    "p13 = Point(19.4233598470446, -99.1283536711016)\n",
    "\n",
    "points = [p1,p2,p3,p4,p5,p6,p7,p8,p9,p10,p11,p12,p13,p1]\n",
    "depot = gps_data_utils.set_depot_boundary(points,buffer = 0)"
   ]
  },
  {
   "cell_type": "markdown",
   "metadata": {},
   "source": [
    "### Read and Validate GPS Data here"
   ]
  },
  {
   "cell_type": "code",
   "execution_count": null,
   "metadata": {},
   "outputs": [],
   "source": [
    "'''\n",
    "error_factor here is used as 1.5, i.e., \n",
    "    relative_error = abs(velocity_gps-velocity_vehicle) / velocity_vehicle \n",
    "    =>  ( 5 - 1 ) / 1 > 1.5\n",
    "    => Calculated GPS speed is way higher than observed speed of the vehicle, i.e. gps walking\n",
    "    => higher error_factor will allow more GPS walking\n",
    "'''\n",
    "error_factor = 1.25"
   ]
  },
  {
   "cell_type": "code",
   "execution_count": null,
   "metadata": {},
   "outputs": [],
   "source": [
    "cols = ['UnityLicensePlate', 'RowReferenceTime', 'lat', 'lon','Speed','EngineStatus']\n",
    "date_col = ['RowReferenceTime']\n",
    "d_format = 'ISO8601'\n",
    "file = 'C:/Users/achad/OneDrive - Microgrid Labs/Desktop/fornow/trip_data_10Units_1Year_V2.csv'\n",
    "df = gps_data_utils.read_data(file,cols,date_col,d_format)"
   ]
  },
  {
   "cell_type": "code",
   "execution_count": null,
   "metadata": {},
   "outputs": [],
   "source": [
    "df = gps_data_utils.validate_mandatory_cols(df,'RowReferenceTime','lat','lon','Speed','UnityLicensePlate')"
   ]
  },
  {
   "cell_type": "code",
   "execution_count": null,
   "metadata": {},
   "outputs": [],
   "source": [
    "df = gps_data_utils.add_date_time_month_df(df)"
   ]
  },
  {
   "cell_type": "code",
   "execution_count": null,
   "metadata": {},
   "outputs": [],
   "source": [
    "df = df.groupby(by=['vehicleid','date']).apply(gps_data_utils.add_prev_latlong).reset_index(drop=True)"
   ]
  },
  {
   "cell_type": "code",
   "execution_count": null,
   "metadata": {},
   "outputs": [],
   "source": [
    "df = gps_data_utils.check_veh_within_depot(df,depot)"
   ]
  },
  {
   "cell_type": "code",
   "execution_count": null,
   "metadata": {},
   "outputs": [],
   "source": [
    "df = gps_data_utils.calculate_speed_flag(df, error_factor)"
   ]
  },
  {
   "cell_type": "code",
   "execution_count": null,
   "metadata": {},
   "outputs": [],
   "source": [
    "df = gps_data_utils.blank_filter(df)"
   ]
  },
  {
   "cell_type": "code",
   "execution_count": null,
   "metadata": {},
   "outputs": [],
   "source": [
    "gdf = gps_data_utils.df_to_gdf(df)\n",
    "tolerance = 0.05 \n",
    "simplified_lines = gdf['geometry'].simplify(tolerance)\n",
    "simplified_gdf = gpd.GeoDataFrame(geometry=simplified_lines)"
   ]
  },
  {
   "cell_type": "code",
   "execution_count": null,
   "metadata": {},
   "outputs": [],
   "source": [
    "maps = folium.Map(max_zoom=24)\n",
    "fg = MarkerCluster().add_to(maps)\n",
    "for _, row in simplified_gdf.iterrows():\n",
    "    lon, lat = row['geometry'].x, row['geometry'].y\n",
    "    folium.Marker(location=[lat, lon],popup=f\"Index:{row.name}\").add_to(fg)"
   ]
  },
  {
   "cell_type": "code",
   "execution_count": null,
   "metadata": {},
   "outputs": [],
   "source": [
    "maps.fit_bounds(fg.get_bounds())\n",
    "maps"
   ]
  }
 ],
 "metadata": {
  "kernelspec": {
   "display_name": "Python 3",
   "language": "python",
   "name": "python3"
  },
  "language_info": {
   "codemirror_mode": {
    "name": "ipython",
    "version": 3
   },
   "file_extension": ".py",
   "mimetype": "text/x-python",
   "name": "python",
   "nbconvert_exporter": "python",
   "pygments_lexer": "ipython3",
   "version": "3.11.1"
  }
 },
 "nbformat": 4,
 "nbformat_minor": 2
}
