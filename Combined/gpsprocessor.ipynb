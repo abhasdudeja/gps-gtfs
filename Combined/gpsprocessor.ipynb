{
 "cells": [
  {
   "cell_type": "code",
   "execution_count": 27,
   "metadata": {},
   "outputs": [],
   "source": [
    "from main import gps_preprocessor\n",
    "from shapely.geometry import Point"
   ]
  },
  {
   "cell_type": "markdown",
   "metadata": {},
   "source": [
    "### Set Depot Points, Boundary and Buffer here"
   ]
  },
  {
   "cell_type": "code",
   "execution_count": 28,
   "metadata": {},
   "outputs": [],
   "source": [
    "p1 = Point(19.421231015290946, -99.12768416729142)\n",
    "p2 = Point(19.420298241433308, -99.12729008610742)\n",
    "p3 = Point(19.419116629726144, -99.12747041774)\n",
    "p4 = Point(19.41926477082061, -99.12969297748691)\n",
    "p5 = Point(19.42117868427646, -99.12944573801215)\n",
    "\n",
    "points = [p1,p2,p3,p4,p5,p1]\n",
    "depot, centroid_point = gps_preprocessor.set_depot_boundary(points,buffer = 0)"
   ]
  },
  {
   "cell_type": "markdown",
   "metadata": {},
   "source": [
    "### Read and Validate GPS Data here"
   ]
  },
  {
   "cell_type": "code",
   "execution_count": 29,
   "metadata": {},
   "outputs": [],
   "source": [
    "'''\n",
    "error_factor here is used as 1.5, i.e., \n",
    "    relative_error = abs(velocity_gps-velocity_vehicle) / velocity_vehicle \n",
    "    =>  ( 5 - 1 ) / 1 > 1.5\n",
    "    => Calculated GPS speed is way higher than observed speed of the vehicle, i.e. gps walking\n",
    "    => higher error_factor will allow more GPS walking\n",
    "'''\n",
    "error_factor = 1.15"
   ]
  },
  {
   "cell_type": "code",
   "execution_count": 30,
   "metadata": {},
   "outputs": [],
   "source": [
    "cols = ['UnityLicensePlate', 'RowReferenceTime', 'lat', 'lon','Speed','EngineStatus']\n",
    "date_col = ['RowReferenceTime']\n",
    "d_format = 'ISO8601'\n",
    "# D:\\Extra-Projects\\MGL-India\\Moving Dots\n",
    "file = 'C:/Users/achad/OneDrive - Microgrid Labs/Desktop/Works (2023)/Current/trip_data_10Units_1Year_V2.csv'\n",
    "#gps_preprocessor.export_speed_flag_df(file,cols,date_col,d_format,depot,error_factor)"
   ]
  },
  {
   "cell_type": "code",
   "execution_count": 31,
   "metadata": {},
   "outputs": [],
   "source": [
    "df = gps_preprocessor.read_data(file,cols,date_col,d_format)"
   ]
  },
  {
   "cell_type": "code",
   "execution_count": 32,
   "metadata": {},
   "outputs": [],
   "source": [
    "df = gps_preprocessor.validate_mandatory_cols(df,'RowReferenceTime','lat','lon','Speed','UnityLicensePlate')"
   ]
  },
  {
   "cell_type": "code",
   "execution_count": 33,
   "metadata": {},
   "outputs": [],
   "source": [
    "df = gps_preprocessor.add_date_time_month_df(df)"
   ]
  },
  {
   "cell_type": "code",
   "execution_count": 34,
   "metadata": {},
   "outputs": [],
   "source": [
    "df = df.groupby(by=['vehicleid','date']).apply(gps_preprocessor.add_prev_latlong).reset_index(drop=True)"
   ]
  },
  {
   "cell_type": "code",
   "execution_count": 35,
   "metadata": {},
   "outputs": [],
   "source": [
    "df = gps_preprocessor.check_veh_within_depot(df,depot)"
   ]
  },
  {
   "cell_type": "code",
   "execution_count": 36,
   "metadata": {},
   "outputs": [],
   "source": [
    "df = gps_preprocessor.calculate_speed_flag(df, error_factor)"
   ]
  },
  {
   "cell_type": "code",
   "execution_count": 37,
   "metadata": {},
   "outputs": [],
   "source": [
    "count_df = gps_preprocessor.depot_locator(df)"
   ]
  },
  {
   "cell_type": "code",
   "execution_count": 38,
   "metadata": {},
   "outputs": [],
   "source": [
    "df = gps_preprocessor.filterby_speed(df)"
   ]
  },
  {
   "cell_type": "code",
   "execution_count": 39,
   "metadata": {},
   "outputs": [],
   "source": [
    "df = gps_preprocessor.blank_filter(df)"
   ]
  },
  {
   "cell_type": "code",
   "execution_count": 40,
   "metadata": {},
   "outputs": [],
   "source": [
    "df = gps_preprocessor.add_dh_trips(df,centroid_point)"
   ]
  },
  {
   "cell_type": "code",
   "execution_count": 41,
   "metadata": {},
   "outputs": [],
   "source": [
    "tolerance = 0.05\n",
    "linestring_gdf = gps_preprocessor.simplfy_trip(df, tolerance)"
   ]
  }
 ],
 "metadata": {
  "kernelspec": {
   "display_name": "Python 3",
   "language": "python",
   "name": "python3"
  },
  "language_info": {
   "codemirror_mode": {
    "name": "ipython",
    "version": 3
   },
   "file_extension": ".py",
   "mimetype": "text/x-python",
   "name": "python",
   "nbconvert_exporter": "python",
   "pygments_lexer": "ipython3",
   "version": "3.11.1"
  }
 },
 "nbformat": 4,
 "nbformat_minor": 2
}
