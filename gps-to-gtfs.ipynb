{
 "cells": [
  {
   "cell_type": "code",
   "execution_count": 1,
   "metadata": {},
   "outputs": [],
   "source": [
    "import pandas as pd"
   ]
  },
  {
   "cell_type": "code",
   "execution_count": 2,
   "metadata": {},
   "outputs": [],
   "source": [
    "df = pd.read_excel('Report_JR14_Vehicle History Report - data.xlsx',skiprows=10)"
   ]
  },
  {
   "cell_type": "code",
   "execution_count": 5,
   "metadata": {},
   "outputs": [
    {
     "data": {
      "text/plain": [
       "Index(['GPS', 'Device', 'Server', 'Reason', 'Driver', 'Desc.', 'Rego',\n",
       "       'Latitude', 'Longitude', 'Direction', 'Unnamed: 10', 'Speed', 'RawGPS',\n",
       "       'Status', 'Flags', 'User Defined', 'Input', 'Output', 'Light', 'Button',\n",
       "       'Max', 'Average', 'Spd Acc', 'Samples', 'Map Ref', 'Suburb', 'Distance',\n",
       "       'Position', 'Eng Cool Temp', 'Eng Oil Temp', 'OilPressure',\n",
       "       'ECM Economy', 'Trip', 'Total Used', 'RPM', 'Tot Hour', 'Brake Hits',\n",
       "       'Odometer', 'MaxF', 'MaxB', 'MaxLR', 'MaxZ', 'Position.1', '  1  ',\n",
       "       '  2', '  3  ', '  4  ', '  5  ', '  6  ', '  7  ', '  8  ', '  9  ',\n",
       "       '  10  ', 'Volts', 'Seconds', 'Speed.1', 'Zone 1', 'Zone 2', 'Zone 3',\n",
       "       'Zone 4', 'Zone 1.1', 'Zone 2.1', 'Zone 3.1', 'Zone 4.1', '  1  .1',\n",
       "       '  2  ', '  3  .1', '  4  .1', '  5  .1', 'Vehicle', 'Auxiliary',\n",
       "       '  1  .2', '  2  .1', '  3  .2', '  4  .2', '  5  .2', 'Mass', 'Limit',\n",
       "       'HDOP', 'Satellites', 'Temperature', 'From Flash', 'Offset Time',\n",
       "       'Offset', 'GPS Read'],\n",
       "      dtype='object')"
      ]
     },
     "execution_count": 5,
     "metadata": {},
     "output_type": "execute_result"
    }
   ],
   "source": [
    "'''\n",
    "    Create Trips from the GPS Data\n",
    "'''\n",
    "\n",
    "df.columns"
   ]
  },
  {
   "cell_type": "code",
   "execution_count": null,
   "metadata": {},
   "outputs": [],
   "source": [
    "'''\n",
    "    Initial Data Sanitation on Odometer Reading.\n",
    "\n",
    "    Filter the data from the date where Odometer Reading > 500.\n",
    "'''\n",
    "df['Date'] = pd.to_datetime(df['GPS'],format=\"%Y-%m-%d\").dt.date\n",
    "reasons = df.groupby(by='Date')['Reason'].unique()"
   ]
  },
  {
   "cell_type": "code",
   "execution_count": null,
   "metadata": {},
   "outputs": [],
   "source": [
    "'''\n",
    "    Read and process a list of dates for calendar file.\n",
    " \n",
    "'''\n",
    "\n",
    "def create_calendar_file(df):\n",
    "    dates = df['GPS'].dt.date.unique()\n",
    "\n",
    "    calendardates = [\n",
    "        {'date': item, 'day_of_week': item.strftime('%A')} for item in dates\n",
    "    ]\n",
    "    calendar_cols = ['service_id','start_date','end_date','monday','tuesday','wednesday','thursday','friday','saturday','sunday']\n",
    "    calendar = pd.DataFrame(columns=calendar_cols)\n",
    "\n",
    "    for date in calendardates:\n",
    "        day = date['day_of_week']\n",
    "        idate = date['date'].strftime('%Y%m%d')\n",
    "        if  day == 'Monday':\n",
    "            data = pd.DataFrame([[idate,idate,idate,'1','0','0','0','0','0','0']],columns = calendar_cols)\n",
    "            calendar = pd.concat([calendar,data],ignore_index=True)\n",
    "        elif day == 'Tuesday':\n",
    "            data = pd.DataFrame([[idate,idate,idate,'0','1','0','0','0','0','0']],columns = calendar_cols)\n",
    "            calendar = pd.concat([calendar,data], ignore_index=True)\n",
    "        elif day == 'Wednesday':\n",
    "            data = pd.DataFrame([[idate,idate,idate,'0','0','1','0','0','0','0']],columns = calendar_cols)\n",
    "            calendar = pd.concat([calendar,data], ignore_index=True)\n",
    "        elif day == 'Thursday':\n",
    "            data = pd.DataFrame([[idate,idate,idate,'0','0','0','1','0','0','0']],columns = calendar_cols)\n",
    "            calendar = pd.concat([calendar,data], ignore_index=True)\n",
    "        elif day == 'Friday':\n",
    "            data = pd.DataFrame([[idate,idate,idate,'0','0','0','0','1','0','0']],columns = calendar_cols)\n",
    "            calendar = pd.concat([calendar,data], ignore_index=True)\n",
    "        elif day == 'Saturday':\n",
    "            data = pd.DataFrame([[idate,idate,idate,'0','0','0','0','0','1','0']],columns = calendar_cols)\n",
    "            calendar = pd.concat([calendar,data], ignore_index=True)\n",
    "        elif day == 'Sunday':\n",
    "            data = pd.DataFrame([[idate,idate,idate,'0','0','0','0','0','0','1']],columns = calendar_cols)\n",
    "            calendar = pd.concat([calendar,data], ignore_index=True)\n",
    "\n",
    "    if len(calendar) != len(dates):\n",
    "        print('Some dates have not been exported to Calendar')\n",
    "    else:\n",
    "        return calendar\n",
    "    \n",
    "print(create_calendar_file(df))\n"
   ]
  },
  {
   "cell_type": "code",
   "execution_count": 11,
   "metadata": {},
   "outputs": [],
   "source": [
    "'''\n",
    "    Data Processing:\n",
    "    1. Filter required columns\n",
    "    2. Concat Lat+Long into coords for each row\n",
    "'''\n",
    "\n",
    "def filter_by_columns(df,cols):\n",
    "    return df[cols]\n",
    "\n",
    "df = filter_by_columns(df,['GPS', 'Device', 'Server', 'Reason', 'Driver', 'Desc.','Speed', 'Rego','Latitude', 'Longitude', 'Direction','Odometer', 'MaxF', 'MaxB', 'MaxLR', 'MaxZ'])\n",
    "\n",
    "df['coords'] = df['Latitude'].astype(str) + ','+ df['Longitude'].astype(str)"
   ]
  },
  {
   "cell_type": "code",
   "execution_count": null,
   "metadata": {},
   "outputs": [],
   "source": [
    "'''\n",
    "    Create Routes from Trips\n",
    "'''\n"
   ]
  }
 ],
 "metadata": {
  "kernelspec": {
   "display_name": "Python 3",
   "language": "python",
   "name": "python3"
  },
  "language_info": {
   "codemirror_mode": {
    "name": "ipython",
    "version": 3
   },
   "file_extension": ".py",
   "mimetype": "text/x-python",
   "name": "python",
   "nbconvert_exporter": "python",
   "pygments_lexer": "ipython3",
   "version": "3.10.8"
  }
 },
 "nbformat": 4,
 "nbformat_minor": 2
}
