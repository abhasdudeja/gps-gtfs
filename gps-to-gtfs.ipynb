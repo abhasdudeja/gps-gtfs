{
 "cells": [
  {
   "cell_type": "code",
   "execution_count": 1,
   "metadata": {},
   "outputs": [],
   "source": [
    "import pandas as pd\n",
    "from datetime import datetime, timedelta"
   ]
  },
  {
   "cell_type": "code",
   "execution_count": 2,
   "metadata": {},
   "outputs": [],
   "source": [
    "df = pd.read_excel('Report_JR14_Vehicle History Report - data.xlsx',skiprows=10)"
   ]
  },
  {
   "cell_type": "code",
   "execution_count": 3,
   "metadata": {},
   "outputs": [
    {
     "data": {
      "text/plain": [
       "Index(['GPS', 'Device', 'Server', 'Reason', 'Driver', 'Desc.', 'Rego',\n",
       "       'Latitude', 'Longitude', 'Direction', 'Unnamed: 10', 'Speed', 'RawGPS',\n",
       "       'Status', 'Flags', 'User Defined', 'Input', 'Output', 'Light', 'Button',\n",
       "       'Max', 'Average', 'Spd Acc', 'Samples', 'Map Ref', 'Suburb', 'Distance',\n",
       "       'Position', 'Eng Cool Temp', 'Eng Oil Temp', 'OilPressure',\n",
       "       'ECM Economy', 'Trip', 'Total Used', 'RPM', 'Tot Hour', 'Brake Hits',\n",
       "       'Odometer', 'MaxF', 'MaxB', 'MaxLR', 'MaxZ', 'Position.1', '  1  ',\n",
       "       '  2', '  3  ', '  4  ', '  5  ', '  6  ', '  7  ', '  8  ', '  9  ',\n",
       "       '  10  ', 'Volts', 'Seconds', 'Speed.1', 'Zone 1', 'Zone 2', 'Zone 3',\n",
       "       'Zone 4', 'Zone 1.1', 'Zone 2.1', 'Zone 3.1', 'Zone 4.1', '  1  .1',\n",
       "       '  2  ', '  3  .1', '  4  .1', '  5  .1', 'Vehicle', 'Auxiliary',\n",
       "       '  1  .2', '  2  .1', '  3  .2', '  4  .2', '  5  .2', 'Mass', 'Limit',\n",
       "       'HDOP', 'Satellites', 'Temperature', 'From Flash', 'Offset Time',\n",
       "       'Offset', 'GPS Read'],\n",
       "      dtype='object')"
      ]
     },
     "execution_count": 3,
     "metadata": {},
     "output_type": "execute_result"
    }
   ],
   "source": [
    "'''\n",
    "    Create Trips from the GPS Data\n",
    "'''\n",
    "\n",
    "df.columns"
   ]
  },
  {
   "cell_type": "code",
   "execution_count": 41,
   "metadata": {},
   "outputs": [
    {
     "name": "stdout",
     "output_type": "stream",
     "text": [
      "2\n"
     ]
    }
   ],
   "source": [
    "'''\n",
    "    Data Processing:\n",
    "\n",
    "    Alpha: Check if Odometer Offset exists - Current logic searches for text Odometer Offset in Suburb. Best is to look in 'Offset' Column and get unique values\n",
    "        Y: process add previous rows odo reading, add offset -- STATUS 1 ***OR***\n",
    "        Y: filter the rows from the next day -- STATUS 2\n",
    "        N: proceed usually.\n",
    "    1. Filter required columns out of overall dataset\n",
    "    2. Concat Lat+Long into coords for each row\n",
    "'''\n",
    "def manipulate_Odometer_Offsets(df,status):\n",
    "\n",
    "    odometer_offsets = df[df['Reason'].str.contains(\"Odometer Offset\")].index.tolist()\n",
    "\n",
    "    if len(odometer_offsets) <= 0:\n",
    "        return df\n",
    "\n",
    "    if status != 2:\n",
    "        return df\n",
    "    date = None\n",
    "    for offset in range(len(odometer_offsets)):\n",
    "        date = pd.to_datetime(df.loc[odometer_offsets[offset]]['GPS']).date()\n",
    "        date = date + timedelta(days = 1)\n",
    "    return df[df['GPS'].dt.date >= date]\n",
    "\n",
    "df1 =manipulate_Odometer_Offsets(df,2)\n",
    "# def process(df):\n",
    "#     df['Date'] = pd.to_datetime(df['GPS'],format=\"%Y-%m-%d\").dt.date\n",
    "#     df = df[['GPS', 'Device', 'Server', 'Reason', 'Driver', 'Desc.','Speed', 'Rego','Latitude', 'Longitude', 'Direction','Odometer', 'MaxF', 'MaxB', 'MaxLR', 'MaxZ','Offset Time','Offset']]\n",
    "#     df['coords'] = df['Latitude'].astype(str) + ','+ df['Longitude'].astype(str)\n",
    "#     df = filter_by_OdoOffset(df,1)\n",
    "#     return df\n",
    "\n",
    "# df = process(df)"
   ]
  },
  {
   "cell_type": "code",
   "execution_count": 56,
   "metadata": {},
   "outputs": [
    {
     "name": "stdout",
     "output_type": "stream",
     "text": [
      "212885.0\n"
     ]
    }
   ],
   "source": [
    "offsets = df['Offset'].unique()\n",
    "if len(offsets)<=0:\n",
    "    print(\"No Offset\")\n",
    "else:\n",
    "    for value in offsets:\n",
    "        if pd.isna(value) is False:\n",
    "            print(value)\n",
    "        "
   ]
  },
  {
   "cell_type": "code",
   "execution_count": null,
   "metadata": {},
   "outputs": [],
   "source": [
    "'''\n",
    "    Read and process a list of dates for calendar file.\n",
    " \n",
    "'''\n",
    "\n",
    "def create_calendar_file(df):\n",
    "    dates = df['GPS'].dt.date.unique()\n",
    "\n",
    "    calendardates = [\n",
    "        {'date': item, 'day_of_week': item.strftime('%A')} for item in dates\n",
    "    ]\n",
    "    calendar_cols = ['service_id','start_date','end_date','monday','tuesday','wednesday','thursday','friday','saturday','sunday']\n",
    "    calendar = pd.DataFrame(columns=calendar_cols)\n",
    "\n",
    "    for date in calendardates:\n",
    "        day = date['day_of_week']\n",
    "        idate = date['date'].strftime('%Y%m%d')\n",
    "        if  day == 'Monday':\n",
    "            data = pd.DataFrame([[idate,idate,idate,'1','0','0','0','0','0','0']],columns = calendar_cols)\n",
    "            calendar = pd.concat([calendar,data],ignore_index=True)\n",
    "        elif day == 'Tuesday':\n",
    "            data = pd.DataFrame([[idate,idate,idate,'0','1','0','0','0','0','0']],columns = calendar_cols)\n",
    "            calendar = pd.concat([calendar,data], ignore_index=True)\n",
    "        elif day == 'Wednesday':\n",
    "            data = pd.DataFrame([[idate,idate,idate,'0','0','1','0','0','0','0']],columns = calendar_cols)\n",
    "            calendar = pd.concat([calendar,data], ignore_index=True)\n",
    "        elif day == 'Thursday':\n",
    "            data = pd.DataFrame([[idate,idate,idate,'0','0','0','1','0','0','0']],columns = calendar_cols)\n",
    "            calendar = pd.concat([calendar,data], ignore_index=True)\n",
    "        elif day == 'Friday':\n",
    "            data = pd.DataFrame([[idate,idate,idate,'0','0','0','0','1','0','0']],columns = calendar_cols)\n",
    "            calendar = pd.concat([calendar,data], ignore_index=True)\n",
    "        elif day == 'Saturday':\n",
    "            data = pd.DataFrame([[idate,idate,idate,'0','0','0','0','0','1','0']],columns = calendar_cols)\n",
    "            calendar = pd.concat([calendar,data], ignore_index=True)\n",
    "        elif day == 'Sunday':\n",
    "            data = pd.DataFrame([[idate,idate,idate,'0','0','0','0','0','0','1']],columns = calendar_cols)\n",
    "            calendar = pd.concat([calendar,data], ignore_index=True)\n",
    "\n",
    "    if len(calendar) != len(dates):\n",
    "        print('Some dates have not been exported to Calendar')\n",
    "    else:\n",
    "        return calendar\n",
    "    \n",
    "\n",
    "# TEST THE FUNCTION HERE\n",
    "# print(create_calendar_file(df))\n"
   ]
  },
  {
   "cell_type": "code",
   "execution_count": null,
   "metadata": {},
   "outputs": [],
   "source": [
    "'''\n",
    "\n",
    "    Create Routes from Trips\n",
    "    \n",
    "    1. Get all Ignition On and Off events\n",
    "    2. Get all Logon and Logoff events\n",
    "    3. Get all Arr and Dep Way Point events\n",
    "\n",
    "'''\n",
    "\n",
    "session_starts = []\n",
    "session_ends = []\n",
    "\n",
    "current_session_start = None\n",
    "for index, row in df.iterrows():\n",
    "    if row['Reason'] == 'Ignition On':\n",
    "        current_session_start = index\n",
    "    elif row['Reason'] == 'Ignition Off' and current_session_start is not None:\n",
    "        session_starts.append(current_session_start)\n",
    "        session_ends.append(index)\n",
    "        current_session_start = None\n",
    "\n",
    "session_dataframes = []\n",
    "\n",
    "# Iterate through the session start and end indices to extract sessions\n",
    "for start, end in zip(session_starts, session_ends):\n",
    "    session_df = df.loc[start:end]\n",
    "    session_dataframes.append(session_df)\n",
    "\n",
    "filtered_df = df.loc[df['Reason'].isin(['Ignition On','Ignition Off'])]"
   ]
  },
  {
   "cell_type": "code",
   "execution_count": null,
   "metadata": {},
   "outputs": [],
   "source": [
    "# RUN EVERYTHING FROM HERE\n"
   ]
  }
 ],
 "metadata": {
  "kernelspec": {
   "display_name": "Python 3",
   "language": "python",
   "name": "python3"
  },
  "language_info": {
   "codemirror_mode": {
    "name": "ipython",
    "version": 3
   },
   "file_extension": ".py",
   "mimetype": "text/x-python",
   "name": "python",
   "nbconvert_exporter": "python",
   "pygments_lexer": "ipython3",
   "version": "3.11.3"
  }
 },
 "nbformat": 4,
 "nbformat_minor": 2
}
