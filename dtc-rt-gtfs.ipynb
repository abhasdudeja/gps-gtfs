{
 "cells": [
  {
   "cell_type": "code",
   "execution_count": null,
   "metadata": {},
   "outputs": [],
   "source": [
    "import requests\n",
    "import csv\n",
    "import gtfs_realtime_pb2\n",
    "import time\n",
    "\n",
    "PB_URL = \"https://otd.delhi.gov.in/api/realtime/VehiclePositions.pb?key=qQdrLdHL9z5X2IEPMv1JNx524TutmrQV\"\n",
    "\n",
    "positions = str\n",
    "\n",
    "cols = [\"entity_id\",\"trip\",\"route\",\"start_time\",\"start_date\",\"vehicle_id\",\"lat\",\"lon\",\"veh_speed\",\"veh_timestamp\"]\n",
    "iteration = 1\n",
    "while True: # Code will run forever without this while statement\n",
    "    response = requests.get(PB_URL)\n",
    "    response.raise_for_status()\n",
    "\n",
    "    feed_message = gtfs_realtime_pb2.FeedMessage()\n",
    "\n",
    "    feed_message.ParseFromString(response.content)\n",
    "\n",
    "    with open('output/dtc-rt/dtc-rt-gtfs-output.csv','a',newline='') as csv_file:\n",
    "        data = []\n",
    "        writer = csv.writer(csv_file)\n",
    "\n",
    "        trips,vehicle,position,timestamp = None,None,None,None\n",
    "\n",
    "        for entity in feed_message.entity:\n",
    "            entity_id = entity.id\n",
    "            trip = entity.vehicle.trip.trip_id\n",
    "            route = entity.vehicle.trip.route_id\n",
    "            start_time = entity.vehicle.trip.start_time\n",
    "            start_date = entity.vehicle.trip.start_date\n",
    "\n",
    "            vehicle_id = entity.vehicle.vehicle.id\n",
    "\n",
    "            lat = entity.vehicle.position.latitude\n",
    "            lon = entity.vehicle.position.longitude\n",
    "            veh_speed = entity.vehicle.position.speed\n",
    "\n",
    "            veh_timestamp = entity.vehicle.timestamp\n",
    "            # print(entity)\n",
    "            data.append([entity_id,trip,route,start_time,start_date,vehicle_id,lat,lon,veh_speed,veh_timestamp])\n",
    "        print(f\"Iteration No: {iteration}\")\n",
    "        iteration += 1\n",
    "        print(len(data))\n",
    "        # writer.writerows(data)\n",
    "    time.sleep(5)"
   ]
  }
 ],
 "metadata": {
  "kernelspec": {
   "display_name": "Python 3",
   "language": "python",
   "name": "python3"
  },
  "language_info": {
   "codemirror_mode": {
    "name": "ipython",
    "version": 3
   },
   "file_extension": ".py",
   "mimetype": "text/x-python",
   "name": "python",
   "nbconvert_exporter": "python",
   "pygments_lexer": "ipython3",
   "version": "3.10.8"
  }
 },
 "nbformat": 4,
 "nbformat_minor": 2
}
