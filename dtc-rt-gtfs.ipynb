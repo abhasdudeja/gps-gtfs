{
 "cells": [
  {
   "cell_type": "markdown",
   "metadata": {},
   "source": [
    "#### Do not run this cell unless you want to download the RT-GTFS from DTC website"
   ]
  },
  {
   "cell_type": "code",
   "execution_count": null,
   "metadata": {},
   "outputs": [],
   "source": [
    "# import requests\n",
    "# import csv\n",
    "# import gtfs_realtime_pb2\n",
    "# import time\n",
    "\n",
    "# PB_URL = \"https://otd.delhi.gov.in/api/realtime/VehiclePositions.pb?key=qQdrLdHL9z5X2IEPMv1JNx524TutmrQV\"\n",
    "\n",
    "# positions = str\n",
    "\n",
    "# cols = [\"entity_id\",\"trip\",\"route\",\"start_time\",\"start_date\",\"vehicle_id\",\"lat\",\"lon\",\"veh_speed\",\"veh_timestamp\"]\n",
    "# iteration = 1\n",
    "# while True: # Code will run forever without this while statement\n",
    "#     response = requests.get(PB_URL)\n",
    "#     response.raise_for_status()\n",
    "\n",
    "#     feed_message = gtfs_realtime_pb2.FeedMessage()\n",
    "\n",
    "#     feed_message.ParseFromString(response.content)\n",
    "\n",
    "#     with open('output/dtc-rt/dtc-rt-gtfs-output.csv','a',newline='') as csv_file:\n",
    "#         data = []\n",
    "#         writer = csv.writer(csv_file)\n",
    "\n",
    "#         trips,vehicle,position,timestamp = None,None,None,None\n",
    "\n",
    "#         for entity in feed_message.entity:\n",
    "#             entity_id = entity.id\n",
    "#             trip = entity.vehicle.trip.trip_id\n",
    "#             route = entity.vehicle.trip.route_id\n",
    "#             start_time = entity.vehicle.trip.start_time\n",
    "#             start_date = entity.vehicle.trip.start_date\n",
    "\n",
    "#             vehicle_id = entity.vehicle.vehicle.id\n",
    "\n",
    "#             lat = entity.vehicle.position.latitude\n",
    "#             lon = entity.vehicle.position.longitude\n",
    "#             veh_speed = entity.vehicle.position.speed\n",
    "\n",
    "#             veh_timestamp = entity.vehicle.timestamp\n",
    "#             # print(entity)\n",
    "#             data.append([entity_id,trip,route,start_time,start_date,vehicle_id,lat,lon,veh_speed,veh_timestamp])\n",
    "#         print(f\"Iteration No: {iteration}\")\n",
    "#         iteration += 1\n",
    "#         print(len(data))\n",
    "#         writer.writerows(data)\n",
    "#     time.sleep(3)"
   ]
  },
  {
   "cell_type": "code",
   "execution_count": 3,
   "metadata": {},
   "outputs": [],
   "source": [
    "import pandas as pd\n",
    "import folium\n"
   ]
  },
  {
   "cell_type": "code",
   "execution_count": 2,
   "metadata": {},
   "outputs": [],
   "source": [
    "df = pd.read_csv('output/dtc-rt/dtc-rt-gtfs-output.csv',parse_dates=['start_time','start_date'])\n",
    "\n",
    "cols = [\"entity_id\",\"trip\",\"route\",\"start_time\",\"start_date\",\"vehicle_id\",\"lat\",\"lon\",\"veh_speed\",\"veh_timestamp\"]"
   ]
  },
  {
   "cell_type": "code",
   "execution_count": 4,
   "metadata": {},
   "outputs": [],
   "source": [
    "# Filter only DTC Routes\n",
    "df = df.loc[df['route']>5000].reset_index()"
   ]
  },
  {
   "cell_type": "code",
   "execution_count": 5,
   "metadata": {},
   "outputs": [],
   "source": [
    "df['start_datetime'] = pd.to_datetime(pd.to_datetime(df['start_date']).dt.strftime('%Y-%m-%d') + ' ' + pd.to_datetime(df['start_time']).dt.strftime('%H:%M:%S'))"
   ]
  },
  {
   "cell_type": "code",
   "execution_count": 6,
   "metadata": {},
   "outputs": [],
   "source": [
    "df['veh_timestamp'] = pd.to_datetime(df['veh_timestamp'])\n",
    "\n",
    "# Group by vehicle_id and sort by start_time\n",
    "grouped_df = df.groupby('vehicle_id',sort=True)"
   ]
  },
  {
   "cell_type": "code",
   "execution_count": 9,
   "metadata": {},
   "outputs": [],
   "source": [
    "my_map = folium.Map(None)\n",
    "coords = []\n",
    "grp = folium.FeatureGroup().add_to(my_map)\n",
    "for key,group in grouped_df.__iter__():\n",
    "    group = group.reset_index()\n",
    "    for idx,row in group.iterrows():\n",
    "        if idx == 0:\n",
    "            start_time = group['start_time'][0]\n",
    "            end_time = group['start_time'][len(group)-1]\n",
    "            route = row['route']\n",
    "            veh_id = row['vehicle_id']\n",
    "            \n",
    "            if route > 5000:\n",
    "                coords.append([row['lat'],row['lon']])\n",
    "\n",
    "        if (len(coords)-1) == (len(group)-1):    \n",
    "            folium.PolyLine(coords,tooltip = f\"Vehicle ID: {row['vehicle_id']}<br>Vehicle ID: {veh_id}<br>Route: {route}<br>Start Time: {start_time}<br>End Time: {end_time}\").add_to(grp)\n",
    "        \n",
    "            # if index % 20 == 0:\n",
    "            \n",
    "            #     folium.Marker(\n",
    "            #         location=[row['lat'], row['lon']],\n",
    "            #         popup=f\"Vehicle ID: {row['vehicle_id']}<br>Start Time: {row['start_time']}<br>Speed: {row['veh_speed']} km/h\"\n",
    "            #     ).add_to(grp)"
   ]
  },
  {
   "cell_type": "code",
   "execution_count": 67,
   "metadata": {},
   "outputs": [
    {
     "data": {
      "text/html": [
       "<div style=\"width:100%;\"><div style=\"position:relative;width:100%;height:0;padding-bottom:60%;\"><span style=\"color:#565656\">Make this Notebook Trusted to load map: File -> Trust Notebook</span><iframe srcdoc=\"&lt;!DOCTYPE html&gt;\n",
       "&lt;html&gt;\n",
       "&lt;head&gt;\n",
       "    \n",
       "    &lt;meta http-equiv=&quot;content-type&quot; content=&quot;text/html; charset=UTF-8&quot; /&gt;\n",
       "    \n",
       "        &lt;script&gt;\n",
       "            L_NO_TOUCH = false;\n",
       "            L_DISABLE_3D = false;\n",
       "        &lt;/script&gt;\n",
       "    \n",
       "    &lt;style&gt;html, body {width: 100%;height: 100%;margin: 0;padding: 0;}&lt;/style&gt;\n",
       "    &lt;style&gt;#map {position:absolute;top:0;bottom:0;right:0;left:0;}&lt;/style&gt;\n",
       "    &lt;script src=&quot;https://cdn.jsdelivr.net/npm/leaflet@1.9.3/dist/leaflet.js&quot;&gt;&lt;/script&gt;\n",
       "    &lt;script src=&quot;https://code.jquery.com/jquery-1.12.4.min.js&quot;&gt;&lt;/script&gt;\n",
       "    &lt;script src=&quot;https://cdn.jsdelivr.net/npm/bootstrap@5.2.2/dist/js/bootstrap.bundle.min.js&quot;&gt;&lt;/script&gt;\n",
       "    &lt;script src=&quot;https://cdnjs.cloudflare.com/ajax/libs/Leaflet.awesome-markers/2.0.2/leaflet.awesome-markers.js&quot;&gt;&lt;/script&gt;\n",
       "    &lt;link rel=&quot;stylesheet&quot; href=&quot;https://cdn.jsdelivr.net/npm/leaflet@1.9.3/dist/leaflet.css&quot;/&gt;\n",
       "    &lt;link rel=&quot;stylesheet&quot; href=&quot;https://cdn.jsdelivr.net/npm/bootstrap@5.2.2/dist/css/bootstrap.min.css&quot;/&gt;\n",
       "    &lt;link rel=&quot;stylesheet&quot; href=&quot;https://netdna.bootstrapcdn.com/bootstrap/3.0.0/css/bootstrap.min.css&quot;/&gt;\n",
       "    &lt;link rel=&quot;stylesheet&quot; href=&quot;https://cdn.jsdelivr.net/npm/@fortawesome/fontawesome-free@6.2.0/css/all.min.css&quot;/&gt;\n",
       "    &lt;link rel=&quot;stylesheet&quot; href=&quot;https://cdnjs.cloudflare.com/ajax/libs/Leaflet.awesome-markers/2.0.2/leaflet.awesome-markers.css&quot;/&gt;\n",
       "    &lt;link rel=&quot;stylesheet&quot; href=&quot;https://cdn.jsdelivr.net/gh/python-visualization/folium/folium/templates/leaflet.awesome.rotate.min.css&quot;/&gt;\n",
       "    \n",
       "            &lt;meta name=&quot;viewport&quot; content=&quot;width=device-width,\n",
       "                initial-scale=1.0, maximum-scale=1.0, user-scalable=no&quot; /&gt;\n",
       "            &lt;style&gt;\n",
       "                #map_ae37b7bf1c9d75c83050f19bca0854ac {\n",
       "                    position: relative;\n",
       "                    width: 100.0%;\n",
       "                    height: 100.0%;\n",
       "                    left: 0.0%;\n",
       "                    top: 0.0%;\n",
       "                }\n",
       "                .leaflet-container { font-size: 1rem; }\n",
       "            &lt;/style&gt;\n",
       "        \n",
       "&lt;/head&gt;\n",
       "&lt;body&gt;\n",
       "    \n",
       "    \n",
       "            &lt;div class=&quot;folium-map&quot; id=&quot;map_ae37b7bf1c9d75c83050f19bca0854ac&quot; &gt;&lt;/div&gt;\n",
       "        \n",
       "&lt;/body&gt;\n",
       "&lt;script&gt;\n",
       "    \n",
       "    \n",
       "            var map_ae37b7bf1c9d75c83050f19bca0854ac = L.map(\n",
       "                &quot;map_ae37b7bf1c9d75c83050f19bca0854ac&quot;,\n",
       "                {\n",
       "                    center: [0, 0],\n",
       "                    crs: L.CRS.EPSG3857,\n",
       "                    zoom: 1,\n",
       "                    zoomControl: true,\n",
       "                    preferCanvas: false,\n",
       "                }\n",
       "            );\n",
       "\n",
       "            \n",
       "\n",
       "        \n",
       "    \n",
       "            var tile_layer_3cab849198e0e89409afe84cb874496e = L.tileLayer(\n",
       "                &quot;https://{s}.tile.openstreetmap.org/{z}/{x}/{y}.png&quot;,\n",
       "                {&quot;attribution&quot;: &quot;Data by \\u0026copy; \\u003ca target=\\&quot;_blank\\&quot; href=\\&quot;http://openstreetmap.org\\&quot;\\u003eOpenStreetMap\\u003c/a\\u003e, under \\u003ca target=\\&quot;_blank\\&quot; href=\\&quot;http://www.openstreetmap.org/copyright\\&quot;\\u003eODbL\\u003c/a\\u003e.&quot;, &quot;detectRetina&quot;: false, &quot;maxNativeZoom&quot;: 18, &quot;maxZoom&quot;: 18, &quot;minZoom&quot;: 0, &quot;noWrap&quot;: false, &quot;opacity&quot;: 1, &quot;subdomains&quot;: &quot;abc&quot;, &quot;tms&quot;: false}\n",
       "            ).addTo(map_ae37b7bf1c9d75c83050f19bca0854ac);\n",
       "        \n",
       "    \n",
       "            var feature_group_460bdbbcee03dd7146b9e9780ecb0ee9 = L.featureGroup(\n",
       "                {}\n",
       "            ).addTo(map_ae37b7bf1c9d75c83050f19bca0854ac);\n",
       "        \n",
       "    \n",
       "            var poly_line_fd1174ef049cbb6b25da8c110f18276e = L.polyline(\n",
       "                [[28.62908363342285, 77.07626342773438], [28.62908363342285, 77.07626342773438], [28.629016876220703, 77.0761947631836], [28.629016876220703, 77.0761947631836], [28.629016876220703, 77.0761947631836], [28.628936767578125, 77.07597351074219], [28.628936767578125, 77.07597351074219], [28.628936767578125, 77.07597351074219], [28.628936767578125, 77.07597351074219], [28.628936767578125, 77.07597351074219], [28.628936767578125, 77.07597351074219], [28.62884521484375, 77.07587432861328], [28.62884521484375, 77.07587432861328], [28.62884521484375, 77.07587432861328], [28.628761291503903, 77.07563781738281], [28.628761291503903, 77.07563781738281]],\n",
       "                {&quot;bubblingMouseEvents&quot;: true, &quot;color&quot;: &quot;#3388ff&quot;, &quot;dashArray&quot;: null, &quot;dashOffset&quot;: null, &quot;fill&quot;: false, &quot;fillColor&quot;: &quot;#3388ff&quot;, &quot;fillOpacity&quot;: 0.2, &quot;fillRule&quot;: &quot;evenodd&quot;, &quot;lineCap&quot;: &quot;round&quot;, &quot;lineJoin&quot;: &quot;round&quot;, &quot;noClip&quot;: false, &quot;opacity&quot;: 1.0, &quot;smoothFactor&quot;: 1.0, &quot;stroke&quot;: true, &quot;weight&quot;: 3}\n",
       "            ).addTo(feature_group_460bdbbcee03dd7146b9e9780ecb0ee9);\n",
       "        \n",
       "    \n",
       "            poly_line_fd1174ef049cbb6b25da8c110f18276e.bindTooltip(\n",
       "                `&lt;div&gt;\n",
       "                     Vehicle ID: DL1PC1592&lt;br&gt;Vehicle ID: DL1PC1592&lt;br&gt;Route: 5331&lt;br&gt;Start Time: 2023-11-05 13:05:18&lt;br&gt;End Time: 2023-11-05 13:05:18\n",
       "                 &lt;/div&gt;`,\n",
       "                {&quot;sticky&quot;: true}\n",
       "            );\n",
       "        \n",
       "    \n",
       "            map_ae37b7bf1c9d75c83050f19bca0854ac.fitBounds(\n",
       "                [[28.628761291503903, 77.07563781738281], [28.62908363342285, 77.07626342773438]],\n",
       "                {}\n",
       "            );\n",
       "        \n",
       "&lt;/script&gt;\n",
       "&lt;/html&gt;\" style=\"position:absolute;width:100%;height:100%;left:0;top:0;border:none !important;\" allowfullscreen webkitallowfullscreen mozallowfullscreen></iframe></div></div>"
      ],
      "text/plain": [
       "<folium.folium.Map at 0x168d277e950>"
      ]
     },
     "execution_count": 67,
     "metadata": {},
     "output_type": "execute_result"
    }
   ],
   "source": [
    "my_map.fit_bounds(grp.get_bounds())\n",
    "my_map"
   ]
  }
 ],
 "metadata": {
  "kernelspec": {
   "display_name": "Python 3",
   "language": "python",
   "name": "python3"
  },
  "language_info": {
   "codemirror_mode": {
    "name": "ipython",
    "version": 3
   },
   "file_extension": ".py",
   "mimetype": "text/x-python",
   "name": "python",
   "nbconvert_exporter": "python",
   "pygments_lexer": "ipython3",
   "version": "3.11.3"
  }
 },
 "nbformat": 4,
 "nbformat_minor": 2
}
