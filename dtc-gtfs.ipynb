{
 "cells": [
  {
   "cell_type": "code",
   "execution_count": 1,
   "metadata": {},
   "outputs": [],
   "source": [
    "import pandas as pd\n",
    "import gtfs_kit as gk\n",
    "from collections import defaultdict\n",
    "import random\n",
    "\n",
    "import zipfile"
   ]
  },
  {
   "cell_type": "code",
   "execution_count": 2,
   "metadata": {},
   "outputs": [],
   "source": [
    "feed = gk.read_feed('data/Delhi-OTD-GTFS.zip',dist_units='km')\n",
    "\n",
    "agency_id_to_remove = \"DIMTS\""
   ]
  },
  {
   "cell_type": "code",
   "execution_count": 84,
   "metadata": {},
   "outputs": [],
   "source": [
    "feed = feed.create_shapes(all_trips=True)\n",
    "# Filter the feed to exclude the specified agency\n",
    "filtered_feed = gk.feed.Feed(\n",
    "    routes=feed.routes[feed.routes[\"agency_id\"] != agency_id_to_remove],\n",
    "    trips=feed.trips[feed.trips[\"route_id\"].isin(feed.routes[feed.routes[\"agency_id\"] != agency_id_to_remove][\"route_id\"])],\n",
    "    stop_times=feed.stop_times[feed.stop_times[\"trip_id\"].isin(feed.trips[feed.trips[\"route_id\"].isin(feed.routes[feed.routes[\"agency_id\"] != agency_id_to_remove][\"route_id\"])][\"trip_id\"])],\n",
    "    stops=feed.stops,\n",
    "    calendar=feed.calendar,\n",
    "    calendar_dates=feed.calendar_dates,\n",
    "    agency=feed.agency[feed.agency[\"agency_id\"] != agency_id_to_remove],\n",
    "    shapes=feed.shapes,\n",
    "    dist_units='km'\n",
    ")\n",
    "\n",
    "filtered_feed.write('filtered.zip')"
   ]
  },
  {
   "cell_type": "code",
   "execution_count": 6,
   "metadata": {},
   "outputs": [
    {
     "ename": "ValueError",
     "evalue": "This Feed has no shapes.",
     "output_type": "error",
     "traceback": [
      "\u001b[1;31m---------------------------------------------------------------------------\u001b[0m",
      "\u001b[1;31mValueError\u001b[0m                                Traceback (most recent call last)",
      "\u001b[1;32me:\\GitHub\\gps-gtfs\\dtc-gtfs.ipynb Cell 4\u001b[0m line \u001b[0;36m1\n\u001b[1;32m----> <a href='vscode-notebook-cell:/e%3A/GitHub/gps-gtfs/dtc-gtfs.ipynb#W3sZmlsZQ%3D%3D?line=0'>1</a>\u001b[0m feed\u001b[39m.\u001b[39;49mmap_routes(feed\u001b[39m.\u001b[39;49mtrips[\u001b[39m'\u001b[39;49m\u001b[39mroute_id\u001b[39;49m\u001b[39m'\u001b[39;49m][:\u001b[39m50\u001b[39;49m],gk\u001b[39m.\u001b[39;49mCOLORS_SET2,show_stops\u001b[39m=\u001b[39;49m\u001b[39mTrue\u001b[39;49;00m)\n",
      "File \u001b[1;32mc:\\Python311\\Lib\\site-packages\\gtfs_kit\\routes.py:812\u001b[0m, in \u001b[0;36mmap_routes\u001b[1;34m(feed, route_ids, color_palette, show_stops)\u001b[0m\n\u001b[0;32m    810\u001b[0m \u001b[39m# Create a feature group for each route and add it to the map\u001b[39;00m\n\u001b[0;32m    811\u001b[0m \u001b[39mfor\u001b[39;00m i, route_id \u001b[39min\u001b[39;00m \u001b[39menumerate\u001b[39m(route_ids):\n\u001b[1;32m--> 812\u001b[0m     collection \u001b[39m=\u001b[39m feed\u001b[39m.\u001b[39;49mroutes_to_geojson(\n\u001b[0;32m    813\u001b[0m         route_ids\u001b[39m=\u001b[39;49m[route_id], include_stops\u001b[39m=\u001b[39;49mshow_stops\n\u001b[0;32m    814\u001b[0m     )\n\u001b[0;32m    816\u001b[0m     \u001b[39m# Use route short name for group name if possible; otherwise use route ID\u001b[39;00m\n\u001b[0;32m    817\u001b[0m     route_name \u001b[39m=\u001b[39m route_id\n",
      "File \u001b[1;32mc:\\Python311\\Lib\\site-packages\\gtfs_kit\\routes.py:768\u001b[0m, in \u001b[0;36mroutes_to_geojson\u001b[1;34m(feed, route_ids, split_directions, include_stops)\u001b[0m\n\u001b[0;32m    765\u001b[0m     \u001b[39mraise\u001b[39;00m \u001b[39mValueError\u001b[39;00m(\u001b[39mf\u001b[39m\u001b[39m\"\u001b[39m\u001b[39mRoute IDs \u001b[39m\u001b[39m{\u001b[39;00mD\u001b[39m}\u001b[39;00m\u001b[39m not found in feed.\u001b[39m\u001b[39m\"\u001b[39m)\n\u001b[0;32m    767\u001b[0m \u001b[39m# Get routes\u001b[39;00m\n\u001b[1;32m--> 768\u001b[0m g \u001b[39m=\u001b[39m geometrize_routes(feed, route_ids\u001b[39m=\u001b[39;49mroute_ids, split_directions\u001b[39m=\u001b[39;49msplit_directions)\n\u001b[0;32m    769\u001b[0m collection \u001b[39m=\u001b[39m json\u001b[39m.\u001b[39mloads(g\u001b[39m.\u001b[39mto_json())\n\u001b[0;32m    771\u001b[0m \u001b[39m# Get stops if desired\u001b[39;00m\n",
      "File \u001b[1;32mc:\\Python311\\Lib\\site-packages\\gtfs_kit\\routes.py:707\u001b[0m, in \u001b[0;36mgeometrize_routes\u001b[1;34m(feed, route_ids, use_utm, split_directions)\u001b[0m\n\u001b[0;32m    694\u001b[0m \u001b[39m\u001b[39m\u001b[39m\"\"\"\u001b[39;00m\n\u001b[0;32m    695\u001b[0m \u001b[39mGiven a Feed, return a GeoDataFrame with all the columns of ``feed.routes``\u001b[39;00m\n\u001b[0;32m    696\u001b[0m \u001b[39mplus a geometry column of (Multi)LineStrings, each of which represents the\u001b[39;00m\n\u001b[1;32m   (...)\u001b[0m\n\u001b[0;32m    704\u001b[0m \u001b[39mRaise a ValueError if the Feed has no shapes.\u001b[39;00m\n\u001b[0;32m    705\u001b[0m \u001b[39m\"\"\"\u001b[39;00m\n\u001b[0;32m    706\u001b[0m \u001b[39mif\u001b[39;00m feed\u001b[39m.\u001b[39mshapes \u001b[39mis\u001b[39;00m \u001b[39mNone\u001b[39;00m:\n\u001b[1;32m--> 707\u001b[0m     \u001b[39mraise\u001b[39;00m \u001b[39mValueError\u001b[39;00m(\u001b[39m\"\u001b[39m\u001b[39mThis Feed has no shapes.\u001b[39m\u001b[39m\"\u001b[39m)\n\u001b[0;32m    709\u001b[0m \u001b[39m# Subset routes\u001b[39;00m\n\u001b[0;32m    710\u001b[0m \u001b[39mif\u001b[39;00m route_ids \u001b[39mis\u001b[39;00m \u001b[39mNone\u001b[39;00m:\n",
      "\u001b[1;31mValueError\u001b[0m: This Feed has no shapes."
     ]
    }
   ],
   "source": [
    "feed.map_routes(feed.trips['route_id'][:50],gk.COLORS_SET2,show_stops=True)"
   ]
  }
 ],
 "metadata": {
  "kernelspec": {
   "display_name": "Python 3",
   "language": "python",
   "name": "python3"
  },
  "language_info": {
   "codemirror_mode": {
    "name": "ipython",
    "version": 3
   },
   "file_extension": ".py",
   "mimetype": "text/x-python",
   "name": "python",
   "nbconvert_exporter": "python",
   "pygments_lexer": "ipython3",
   "version": "3.11.3"
  }
 },
 "nbformat": 4,
 "nbformat_minor": 2
}
