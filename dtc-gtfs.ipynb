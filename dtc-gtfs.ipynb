{
 "cells": [
  {
   "cell_type": "code",
   "execution_count": null,
   "metadata": {},
   "outputs": [],
   "source": [
    "import pandas as pd\n",
    "import gtfs_kit as gk\n",
    "from collections import defaultdict\n",
    "import random\n",
    "\n",
    "import zipfile"
   ]
  },
  {
   "cell_type": "code",
   "execution_count": null,
   "metadata": {},
   "outputs": [],
   "source": [
    "feed = gk.read_feed('data/Delhi-OTD-GTFS.zip',dist_units='km')"
   ]
  },
  {
   "cell_type": "code",
   "execution_count": null,
   "metadata": {},
   "outputs": [],
   "source": [
    "# print(feed.validate())\n",
    "def rgb_to_hex(color):\n",
    "    r = color[0]\n",
    "    g = color[1]\n",
    "    b = color[2]\n",
    "    return '#{:02x}{:02x}{:02x}'.format(r, g, b)"
   ]
  },
  {
   "cell_type": "code",
   "execution_count": null,
   "metadata": {},
   "outputs": [],
   "source": [
    "allroutes = feed.get_routes()['route_id']\n",
    "alltrips = feed.get_trips()['trip_id']\n",
    "tripcolors = defaultdict(list)\n",
    "routecolors = defaultdict(list)\n",
    "\n",
    "feed = feed.create_shapes(all_trips=True)"
   ]
  },
  {
   "cell_type": "code",
   "execution_count": null,
   "metadata": {},
   "outputs": [],
   "source": [
    "for _ in range(1,len(alltrips)-1):\n",
    "    tripcolors[\"color\"].append(rgb_to_hex(random.choices(range(256),k=3)))\n",
    "\n",
    "for _ in range(1,len(allroutes)-1):\n",
    "    routecolors[\"color\"].append(rgb_to_hex(random.choices(range(256),k=3)))\n"
   ]
  },
  {
   "cell_type": "code",
   "execution_count": null,
   "metadata": {},
   "outputs": [],
   "source": [
    "# feed.map_trips(alltrips,gk.COLORS_SET2,show_stops=True).save('TripMap.html')\n",
    "feed.map_routes(allroutes,gk.COLORS_SET2,show_stops=True).save('RouteMap.html')"
   ]
  }
 ],
 "metadata": {
  "kernelspec": {
   "display_name": "Python 3",
   "language": "python",
   "name": "python3"
  },
  "language_info": {
   "codemirror_mode": {
    "name": "ipython",
    "version": 3
   },
   "file_extension": ".py",
   "mimetype": "text/x-python",
   "name": "python",
   "nbconvert_exporter": "python",
   "pygments_lexer": "ipython3",
   "version": "3.11.3"
  }
 },
 "nbformat": 4,
 "nbformat_minor": 2
}
