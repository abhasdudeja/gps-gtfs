{
 "cells": [
  {
   "cell_type": "code",
   "execution_count": 23,
   "metadata": {},
   "outputs": [],
   "source": [
    "import pandas as pd\n",
    "import gtfs_kit as gk\n",
    "from collections import defaultdict\n",
    "import random\n",
    "\n",
    "import zipfile"
   ]
  },
  {
   "cell_type": "code",
   "execution_count": 83,
   "metadata": {},
   "outputs": [],
   "source": [
    "feed = gk.read_feed('data/Delhi-OTD-GTFS.zip',dist_units='km')\n",
    "\n",
    "agency_id_to_remove = \"DIMTS\""
   ]
  },
  {
   "cell_type": "code",
   "execution_count": 84,
   "metadata": {},
   "outputs": [],
   "source": [
    "feed = feed.create_shapes(all_trips=True)\n",
    "# Filter the feed to exclude the specified agency\n",
    "filtered_feed = gk.feed.Feed(\n",
    "    routes=feed.routes[feed.routes[\"agency_id\"] != agency_id_to_remove],\n",
    "    trips=feed.trips[feed.trips[\"route_id\"].isin(feed.routes[feed.routes[\"agency_id\"] != agency_id_to_remove][\"route_id\"])],\n",
    "    stop_times=feed.stop_times[feed.stop_times[\"trip_id\"].isin(feed.trips[feed.trips[\"route_id\"].isin(feed.routes[feed.routes[\"agency_id\"] != agency_id_to_remove][\"route_id\"])][\"trip_id\"])],\n",
    "    stops=feed.stops,\n",
    "    calendar=feed.calendar,\n",
    "    calendar_dates=feed.calendar_dates,\n",
    "    agency=feed.agency[feed.agency[\"agency_id\"] != agency_id_to_remove],\n",
    "    shapes=feed.shapes,\n",
    "    dist_units='km'\n",
    ")\n",
    "\n",
    "filtered_feed.write('filtered.zip')"
   ]
  }
 ],
 "metadata": {
  "kernelspec": {
   "display_name": "Python 3",
   "language": "python",
   "name": "python3"
  },
  "language_info": {
   "codemirror_mode": {
    "name": "ipython",
    "version": 3
   },
   "file_extension": ".py",
   "mimetype": "text/x-python",
   "name": "python",
   "nbconvert_exporter": "python",
   "pygments_lexer": "ipython3",
   "version": "3.11.3"
  }
 },
 "nbformat": 4,
 "nbformat_minor": 2
}
